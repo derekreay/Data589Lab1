{
 "cells": [
  {
   "cell_type": "code",
   "execution_count": 1,
   "metadata": {},
   "outputs": [
    {
     "data": {
      "text/html": [
       "<style scoped>\n",
       "  .ansiout {\n",
       "    display: block;\n",
       "    unicode-bidi: embed;\n",
       "    white-space: pre-wrap;\n",
       "    word-wrap: break-word;\n",
       "    word-break: break-all;\n",
       "    font-family: \"Source Code Pro\", \"Menlo\", monospace;;\n",
       "    font-size: 13px;\n",
       "    color: #555;\n",
       "    margin-left: 4px;\n",
       "    line-height: 19px;\n",
       "  }\n",
       "</style>\n",
       "<div class=\"ansiout\">2693 [&#39;1999&#39;, &#39;actor&#39;, &#39;1/11/99&#39;, &#39;Acting&#39;, &#39;Michael J. Fox&#39;]\n",
       "17\n",
       "[(&#39;NA&#39;, 31), (&#39;Politician&#39;, 308), (&#39;Political Aide&#39;, 36), (&#39;Clergy&#39;, 8), (&#39;Science&#39;, 28), (&#39;Consultant&#39;, 18), (&#39;Military&#39;, 16), (&#39;Acting&#39;, 930), (&#39;Comedy&#39;, 150), (&#39;Musician&#39;, 123), (&#39;Media&#39;, 751), (&#39;Athletics&#39;, 52), (&#39;Business&#39;, 25), (&#39;Advocacy&#39;, 24), (&#39;Misc&#39;, 45), (&#39;Academic&#39;, 103), (&#39;Government&#39;, 40), (&#39;media&#39;, 5)]\n",
       "[(&#39;media&#39;, 5), (&#39;Science&#39;, 28), (&#39;Politician&#39;, 308), (&#39;Political Aide&#39;, 36), (&#39;NA&#39;, 31), (&#39;Musician&#39;, 123), (&#39;Misc&#39;, 45), (&#39;Military&#39;, 16), (&#39;Media&#39;, 751), (&#39;Government&#39;, 40), (&#39;Consultant&#39;, 18), (&#39;Comedy&#39;, 150), (&#39;Clergy&#39;, 8), (&#39;Business&#39;, 25), (&#39;Athletics&#39;, 52), (&#39;Advocacy&#39;, 24), (&#39;Acting&#39;, 930), (&#39;Academic&#39;, 103)]\n",
       "2\n",
       "</div>"
      ]
     },
     "metadata": {},
     "output_type": "display_data"
    }
   ],
   "source": [
    "raw_data = sc.textFile(\"/FileStore/tables/q2.csv\")\n",
    "lines = raw_data.map(lambda lines : lines.split(\",\"))\n",
    "\n",
    "\n",
    "print(lines.count(), lines.first())\n",
    "\n",
    "print(lines.map(lambda x: x[0]).distinct().count())\n",
    "\n",
    "print(lines.map(lambda x: (x[3], 1)).reduceByKey(lambda x, y: x+y).collect())\n",
    "\n",
    "print(lines.map(lambda x: (x[3], 1)).reduceByKey(lambda x, y: x+y).sortBy(lambda x: x[0]).sortByKey(False).collect())\n",
    "\n",
    "num_Obama = lines.filter(lambda x: \"President Barack Obama\" in x[4])\n",
    "print(num_Obama.count())"
   ]
  },
  {
   "cell_type": "code",
   "execution_count": 2,
   "metadata": {},
   "outputs": [],
   "source": []
  }
 ],
 "metadata": {
  "kernelspec": {
   "display_name": "Python 3",
   "language": "python",
   "name": "python3"
  },
  "language_info": {
   "codemirror_mode": {
    "name": "ipython",
    "version": 3
   },
   "file_extension": ".py",
   "mimetype": "text/x-python",
   "name": "python",
   "nbconvert_exporter": "python",
   "pygments_lexer": "ipython3",
   "version": "3.7.3"
  },
  "name": "Lab1q2",
  "notebookId": 192052201891519
 },
 "nbformat": 4,
 "nbformat_minor": 1
}
